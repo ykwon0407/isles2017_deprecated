{
 "cells": [
  {
   "cell_type": "code",
   "execution_count": 1,
   "metadata": {
    "collapsed": true
   },
   "outputs": [],
   "source": [
    "import pandas as pd\n",
    "import numpy as np\n",
    "import os\n",
    "from glob import glob\n",
    "from medpy.io import load"
   ]
  },
  {
   "cell_type": "code",
   "execution_count": 2,
   "metadata": {
    "collapsed": true
   },
   "outputs": [],
   "source": [
    "datadir = '../input/Training/*'\n",
    "GT_list = sorted(glob(os.path.join(datadir, 'GT01.nii*')))"
   ]
  },
  {
   "cell_type": "code",
   "execution_count": 3,
   "metadata": {
    "collapsed": false
   },
   "outputs": [],
   "source": [
    "#density\n",
    "density = np.zeros(len(GT_list))\n",
    "number = np.zeros(len(GT_list))\n",
    "label = np.array([])\n",
    "for idx, gt in enumerate(GT_list):\n",
    "    test = load(gt)[0]\n",
    "    label = np.concatenate( (label, np.unique(np.array(test))), axis=0 )\n",
    "    density[idx] = np.mean(test).astype(np.float32)\n",
    "    number[idx] = np.sum(test).astype(np.float32)"
   ]
  },
  {
   "cell_type": "code",
   "execution_count": 4,
   "metadata": {
    "collapsed": false
   },
   "outputs": [
    {
     "name": "stdout",
     "output_type": "stream",
     "text": [
      "[ 0.03012495  0.04736328  0.15062477  0.08409288  0.75372062  1.52339935\n",
      "  0.03027344  0.36156971  3.05361394  0.08074443  0.00685307  0.22314454\n",
      "  0.0819513   1.03162127  0.17611185  1.35485334  0.59096017  1.23312436\n",
      "  0.06438079  0.18997757  0.46079285  0.92221862  0.41630496  0.06573712\n",
      "  3.10386978  0.73941774  0.02854665  1.53125003  0.27748391  0.08251953]\n",
      "[   211.    194.   1055.    589.  11855.  23961.    124.   5687.  21388.\n",
      "   1270.     48.    914.    574.  16226.   2770.  21310.   9295.   8637.\n",
      "    712.   2101.   5096.  10199.   4604.    727.  21740.   5179.    449.\n",
      "   6272.   2455.    338.]\n",
      "30\n"
     ]
    }
   ],
   "source": [
    "print(density*100)\n",
    "print(number)\n",
    "print(len(density))"
   ]
  },
  {
   "cell_type": "code",
   "execution_count": 5,
   "metadata": {
    "collapsed": false
   },
   "outputs": [
    {
     "data": {
      "text/plain": [
       "array([ 0.00685307,  0.02925689,  0.03025859,  0.05331941,  0.06546586,\n",
       "        0.08104615,  0.08234906,  0.09407266,  0.16591702,  0.19163592,\n",
       "        0.25031422,  0.35736542,  0.43410012,  0.57143507,  0.7437086 ,\n",
       "        0.88009412,  1.07192189,  1.3122482 ,  1.52418442])"
      ]
     },
     "execution_count": 5,
     "metadata": {},
     "output_type": "execute_result"
    }
   ],
   "source": [
    "A = density*100\n",
    "np.percentile(A, np.arange(19)*5)"
   ]
  },
  {
   "cell_type": "code",
   "execution_count": 6,
   "metadata": {
    "collapsed": false
   },
   "outputs": [
    {
     "data": {
      "text/plain": [
       "(0.62322156067239121, 0.25031422264873981, 0.80581997328879806)"
      ]
     },
     "execution_count": 6,
     "metadata": {},
     "output_type": "execute_result"
    }
   ],
   "source": [
    "np.mean(A), np.median(A), np.std(A)"
   ]
  },
  {
   "cell_type": "code",
   "execution_count": 7,
   "metadata": {
    "collapsed": true
   },
   "outputs": [],
   "source": [
    "import matplotlib.pyplot as plt"
   ]
  },
  {
   "cell_type": "code",
   "execution_count": 8,
   "metadata": {
    "collapsed": false
   },
   "outputs": [
    {
     "data": {
      "image/png": "[encoded data removed]",
      "text/plain": [
       "<matplotlib.figure.Figure at 0x7fddbfb4fa10>"
      ]
     },
     "metadata": {},
     "output_type": "display_data"
    }
   ],
   "source": [
    "%matplotlib inline\n",
    "plt.hist(A, bins='auto')  # plt.hist passes it's arguments to np.histogram\n",
    "plt.title(\"Histogram of GT\")\n",
    "plt.show()"
   ]
  },
  {
   "cell_type": "code",
   "execution_count": 9,
   "metadata": {
    "collapsed": false
   },
   "outputs": [
    {
     "data": {
      "text/plain": [
       "[(128, 128, 25, 60),\n",
       " (256, 256, 24, 40),\n",
       " (192, 192, 19, 80),\n",
       " (192, 192, 24),\n",
       " (192, 192, 19),\n",
       " (192, 192, 30, 50),\n",
       " (192, 192, 30),\n",
       " (128, 128, 25),\n",
       " (128, 128, 25, 80),\n",
       " (256, 256, 24),\n",
       " (192, 192, 24, 80),\n",
       " (192, 192, 30, 80)]"
      ]
     },
     "execution_count": 9,
     "metadata": {},
     "output_type": "execute_result"
    }
   ],
   "source": [
    "img_list = [fn for fn in sorted(glob(os.path.join(datadir, '*.nii*'))) ]\n",
    "\n",
    "dim_list = []\n",
    "for idx, img in enumerate(img_list):\n",
    "    dim_list.append(load(img)[0].shape)\n",
    "\n",
    "list(set(dim_list))"
   ]
  },
  {
   "cell_type": "code",
   "execution_count": 10,
   "metadata": {
    "collapsed": false
   },
   "outputs": [
    {
     "data": {
      "text/html": [
       "<div>\n",
       "<table border=\"1\" class=\"dataframe\">\n",
       "  <thead>\n",
       "    <tr style=\"text-align: right;\">\n",
       "      <th></th>\n",
       "      <th>ID</th>\n",
       "      <th>mRS</th>\n",
       "      <th>TICI</th>\n",
       "      <th>TSS</th>\n",
       "      <th>TTT</th>\n",
       "    </tr>\n",
       "  </thead>\n",
       "  <tbody>\n",
       "    <tr>\n",
       "      <th>0</th>\n",
       "      <td>training_1</td>\n",
       "      <td>1</td>\n",
       "      <td>2b</td>\n",
       "      <td>160</td>\n",
       "      <td>85</td>\n",
       "    </tr>\n",
       "    <tr>\n",
       "      <th>8</th>\n",
       "      <td>training_10</td>\n",
       "      <td>1</td>\n",
       "      <td>3</td>\n",
       "      <td>128</td>\n",
       "      <td>90</td>\n",
       "    </tr>\n",
       "    <tr>\n",
       "      <th>9</th>\n",
       "      <td>training_11</td>\n",
       "      <td>1</td>\n",
       "      <td>0</td>\n",
       "      <td>129</td>\n",
       "      <td>221</td>\n",
       "    </tr>\n",
       "    <tr>\n",
       "      <th>10</th>\n",
       "      <td>training_12</td>\n",
       "      <td>1</td>\n",
       "      <td>3</td>\n",
       "      <td>157</td>\n",
       "      <td>124</td>\n",
       "    </tr>\n",
       "    <tr>\n",
       "      <th>11</th>\n",
       "      <td>training_13</td>\n",
       "      <td>2</td>\n",
       "      <td>2b</td>\n",
       "      <td>175</td>\n",
       "      <td>86</td>\n",
       "    </tr>\n",
       "    <tr>\n",
       "      <th>12</th>\n",
       "      <td>training_14</td>\n",
       "      <td>2</td>\n",
       "      <td>3</td>\n",
       "      <td>135</td>\n",
       "      <td>119</td>\n",
       "    </tr>\n",
       "    <tr>\n",
       "      <th>13</th>\n",
       "      <td>training_15</td>\n",
       "      <td>0</td>\n",
       "      <td>2b</td>\n",
       "      <td>249</td>\n",
       "      <td>131</td>\n",
       "    </tr>\n",
       "    <tr>\n",
       "      <th>14</th>\n",
       "      <td>training_16</td>\n",
       "      <td>1</td>\n",
       "      <td>2b</td>\n",
       "      <td>120</td>\n",
       "      <td>104</td>\n",
       "    </tr>\n",
       "    <tr>\n",
       "      <th>15</th>\n",
       "      <td>training_18</td>\n",
       "      <td>4</td>\n",
       "      <td>1</td>\n",
       "      <td>181</td>\n",
       "      <td>84</td>\n",
       "    </tr>\n",
       "    <tr>\n",
       "      <th>16</th>\n",
       "      <td>training_19</td>\n",
       "      <td>0</td>\n",
       "      <td>2a</td>\n",
       "      <td>281</td>\n",
       "      <td>81</td>\n",
       "    </tr>\n",
       "  </tbody>\n",
       "</table>\n",
       "</div>"
      ],
      "text/plain": [
       "             ID  mRS TICI  TSS  TTT\n",
       "0    training_1    1   2b  160   85\n",
       "8   training_10    1    3  128   90\n",
       "9   training_11    1    0  129  221\n",
       "10  training_12    1    3  157  124\n",
       "11  training_13    2   2b  175   86\n",
       "12  training_14    2    3  135  119\n",
       "13  training_15    0   2b  249  131\n",
       "14  training_16    1   2b  120  104\n",
       "15  training_18    4    1  181   84\n",
       "16  training_19    0   2a  281   81"
      ]
     },
     "execution_count": 10,
     "metadata": {},
     "output_type": "execute_result"
    }
   ],
   "source": [
    "info = pd.read_csv('../input/info.csv', nrows=30)\n",
    "info = info.sort_values(['ID'])\n",
    "info.head(10)"
   ]
  },
  {
   "cell_type": "code",
   "execution_count": 11,
   "metadata": {
    "collapsed": false,
    "scrolled": false
   },
   "outputs": [
    {
     "name": "stdout",
     "output_type": "stream",
     "text": [
      "             ID  mRS TICI  TSS         TTT        GT\n",
      "0    training_1    1   2b  160   85.000000  0.000301\n",
      "8   training_10    1    3  128   90.000000  0.000474\n",
      "9   training_11    1    0  129  221.000000  0.001506\n",
      "10  training_12    1    3  157  124.000000  0.000841\n",
      "11  training_13    2   2b  175   86.000000  0.007537\n",
      "12  training_14    2    3  135  119.000000  0.015234\n",
      "13  training_15    0   2b  249  131.000000  0.000303\n",
      "14  training_16    1   2b  120  104.000000  0.003616\n",
      "15  training_18    4    1  181   84.000000  0.030536\n",
      "16  training_19    0   2a  281   81.000000  0.000807\n",
      "1    training_2    1   2b  105  150.000000  0.000069\n",
      "17  training_20    1    1  196  116.000000  0.002231\n",
      "18  training_21    1   2a  245  115.000000  0.000820\n",
      "19  training_22    3    0  138  142.000000  0.010316\n",
      "20  training_23    1    0   92  133.000000  0.001761\n",
      "21  training_24    2    0  108   71.000000  0.013549\n",
      "22  training_26    2   2a  295   95.000000  0.005910\n",
      "23  training_27    3    1   80   79.000000  0.012331\n",
      "24  training_28    1   2b  162  108.925926  0.000644\n",
      "25  training_30    3    3   61  108.925926  0.001900\n",
      "26  training_31    3   2b  296   93.000000  0.004608\n",
      "27  training_32    2   2b   65   80.000000  0.009222\n",
      "28  training_33    3    0  132  108.925926  0.004163\n",
      "29  training_35    2    3   92   69.000000  0.000657\n",
      "2    training_4    4    3  116   93.000000  0.031039\n",
      "3    training_5    2    3   81  162.000000  0.007394\n",
      "4    training_6    1   2b  121   92.000000  0.000285\n",
      "5    training_7    2   2b  141   99.000000  0.015313\n",
      "6    training_8    1   2b  308  142.000000  0.002775\n",
      "7    training_9    1    3   90   85.000000  0.000825\n"
     ]
    }
   ],
   "source": [
    "info['GT']= density\n",
    "info = info.fillna(np.mean(info.TTT))\n",
    "print(info)"
   ]
  },
  {
   "cell_type": "code",
   "execution_count": 12,
   "metadata": {
    "collapsed": true
   },
   "outputs": [],
   "source": [
    "def stand(x):\n",
    "    x -= np.mean(x)\n",
    "    x /= np.std(x)\n",
    "    return x"
   ]
  },
  {
   "cell_type": "code",
   "execution_count": 15,
   "metadata": {
    "collapsed": false
   },
   "outputs": [
    {
     "data": {
      "text/html": [
       "<div>\n",
       "<table border=\"1\" class=\"dataframe\">\n",
       "  <thead>\n",
       "    <tr style=\"text-align: right;\">\n",
       "      <th></th>\n",
       "      <th>TICI</th>\n",
       "      <th>TSS</th>\n",
       "      <th>TTT</th>\n",
       "    </tr>\n",
       "  </thead>\n",
       "  <tbody>\n",
       "    <tr>\n",
       "      <th>0</th>\n",
       "      <td>2</td>\n",
       "      <td>0.075855</td>\n",
       "      <td>-7.561022e-01</td>\n",
       "    </tr>\n",
       "    <tr>\n",
       "      <th>8</th>\n",
       "      <td>3</td>\n",
       "      <td>-0.376448</td>\n",
       "      <td>-5.980932e-01</td>\n",
       "    </tr>\n",
       "    <tr>\n",
       "      <th>9</th>\n",
       "      <td>0</td>\n",
       "      <td>-0.362313</td>\n",
       "      <td>3.541742e+00</td>\n",
       "    </tr>\n",
       "    <tr>\n",
       "      <th>10</th>\n",
       "      <td>3</td>\n",
       "      <td>0.033452</td>\n",
       "      <td>4.763678e-01</td>\n",
       "    </tr>\n",
       "    <tr>\n",
       "      <th>11</th>\n",
       "      <td>2</td>\n",
       "      <td>0.287872</td>\n",
       "      <td>-7.245004e-01</td>\n",
       "    </tr>\n",
       "    <tr>\n",
       "      <th>12</th>\n",
       "      <td>3</td>\n",
       "      <td>-0.277507</td>\n",
       "      <td>3.183588e-01</td>\n",
       "    </tr>\n",
       "    <tr>\n",
       "      <th>13</th>\n",
       "      <td>2</td>\n",
       "      <td>1.333822</td>\n",
       "      <td>6.975803e-01</td>\n",
       "    </tr>\n",
       "    <tr>\n",
       "      <th>14</th>\n",
       "      <td>2</td>\n",
       "      <td>-0.489523</td>\n",
       "      <td>-1.556681e-01</td>\n",
       "    </tr>\n",
       "    <tr>\n",
       "      <th>15</th>\n",
       "      <td>1</td>\n",
       "      <td>0.372679</td>\n",
       "      <td>-7.877040e-01</td>\n",
       "    </tr>\n",
       "    <tr>\n",
       "      <th>16</th>\n",
       "      <td>2</td>\n",
       "      <td>1.786125</td>\n",
       "      <td>-8.825094e-01</td>\n",
       "    </tr>\n",
       "    <tr>\n",
       "      <th>1</th>\n",
       "      <td>2</td>\n",
       "      <td>-0.701540</td>\n",
       "      <td>1.298014e+00</td>\n",
       "    </tr>\n",
       "    <tr>\n",
       "      <th>17</th>\n",
       "      <td>1</td>\n",
       "      <td>0.584695</td>\n",
       "      <td>2.235534e-01</td>\n",
       "    </tr>\n",
       "    <tr>\n",
       "      <th>18</th>\n",
       "      <td>2</td>\n",
       "      <td>1.277284</td>\n",
       "      <td>1.919516e-01</td>\n",
       "    </tr>\n",
       "    <tr>\n",
       "      <th>19</th>\n",
       "      <td>0</td>\n",
       "      <td>-0.235103</td>\n",
       "      <td>1.045200e+00</td>\n",
       "    </tr>\n",
       "    <tr>\n",
       "      <th>20</th>\n",
       "      <td>0</td>\n",
       "      <td>-0.885288</td>\n",
       "      <td>7.607839e-01</td>\n",
       "    </tr>\n",
       "    <tr>\n",
       "      <th>21</th>\n",
       "      <td>0</td>\n",
       "      <td>-0.659137</td>\n",
       "      <td>-1.198527e+00</td>\n",
       "    </tr>\n",
       "    <tr>\n",
       "      <th>22</th>\n",
       "      <td>2</td>\n",
       "      <td>1.984007</td>\n",
       "      <td>-4.400842e-01</td>\n",
       "    </tr>\n",
       "    <tr>\n",
       "      <th>23</th>\n",
       "      <td>1</td>\n",
       "      <td>-1.054902</td>\n",
       "      <td>-9.457129e-01</td>\n",
       "    </tr>\n",
       "    <tr>\n",
       "      <th>24</th>\n",
       "      <td>2</td>\n",
       "      <td>0.104124</td>\n",
       "      <td>4.490885e-16</td>\n",
       "    </tr>\n",
       "    <tr>\n",
       "      <th>25</th>\n",
       "      <td>3</td>\n",
       "      <td>-1.323457</td>\n",
       "      <td>4.490885e-16</td>\n",
       "    </tr>\n",
       "    <tr>\n",
       "      <th>26</th>\n",
       "      <td>2</td>\n",
       "      <td>1.998141</td>\n",
       "      <td>-5.032878e-01</td>\n",
       "    </tr>\n",
       "    <tr>\n",
       "      <th>27</th>\n",
       "      <td>2</td>\n",
       "      <td>-1.266919</td>\n",
       "      <td>-9.141111e-01</td>\n",
       "    </tr>\n",
       "    <tr>\n",
       "      <th>28</th>\n",
       "      <td>0</td>\n",
       "      <td>-0.319910</td>\n",
       "      <td>4.490885e-16</td>\n",
       "    </tr>\n",
       "    <tr>\n",
       "      <th>29</th>\n",
       "      <td>3</td>\n",
       "      <td>-0.885288</td>\n",
       "      <td>-1.261731e+00</td>\n",
       "    </tr>\n",
       "    <tr>\n",
       "      <th>2</th>\n",
       "      <td>3</td>\n",
       "      <td>-0.546061</td>\n",
       "      <td>-5.032878e-01</td>\n",
       "    </tr>\n",
       "    <tr>\n",
       "      <th>3</th>\n",
       "      <td>3</td>\n",
       "      <td>-1.040767</td>\n",
       "      <td>1.677236e+00</td>\n",
       "    </tr>\n",
       "    <tr>\n",
       "      <th>4</th>\n",
       "      <td>2</td>\n",
       "      <td>-0.475389</td>\n",
       "      <td>-5.348896e-01</td>\n",
       "    </tr>\n",
       "    <tr>\n",
       "      <th>5</th>\n",
       "      <td>2</td>\n",
       "      <td>-0.192700</td>\n",
       "      <td>-3.136771e-01</td>\n",
       "    </tr>\n",
       "    <tr>\n",
       "      <th>6</th>\n",
       "      <td>2</td>\n",
       "      <td>2.167755</td>\n",
       "      <td>1.045200e+00</td>\n",
       "    </tr>\n",
       "    <tr>\n",
       "      <th>7</th>\n",
       "      <td>3</td>\n",
       "      <td>-0.913557</td>\n",
       "      <td>-7.561022e-01</td>\n",
       "    </tr>\n",
       "  </tbody>\n",
       "</table>\n",
       "</div>"
      ],
      "text/plain": [
       "    TICI       TSS           TTT\n",
       "0      2  0.075855 -7.561022e-01\n",
       "8      3 -0.376448 -5.980932e-01\n",
       "9      0 -0.362313  3.541742e+00\n",
       "10     3  0.033452  4.763678e-01\n",
       "11     2  0.287872 -7.245004e-01\n",
       "12     3 -0.277507  3.183588e-01\n",
       "13     2  1.333822  6.975803e-01\n",
       "14     2 -0.489523 -1.556681e-01\n",
       "15     1  0.372679 -7.877040e-01\n",
       "16     2  1.786125 -8.825094e-01\n",
       "1      2 -0.701540  1.298014e+00\n",
       "17     1  0.584695  2.235534e-01\n",
       "18     2  1.277284  1.919516e-01\n",
       "19     0 -0.235103  1.045200e+00\n",
       "20     0 -0.885288  7.607839e-01\n",
       "21     0 -0.659137 -1.198527e+00\n",
       "22     2  1.984007 -4.400842e-01\n",
       "23     1 -1.054902 -9.457129e-01\n",
       "24     2  0.104124  4.490885e-16\n",
       "25     3 -1.323457  4.490885e-16\n",
       "26     2  1.998141 -5.032878e-01\n",
       "27     2 -1.266919 -9.141111e-01\n",
       "28     0 -0.319910  4.490885e-16\n",
       "29     3 -0.885288 -1.261731e+00\n",
       "2      3 -0.546061 -5.032878e-01\n",
       "3      3 -1.040767  1.677236e+00\n",
       "4      2 -0.475389 -5.348896e-01\n",
       "5      2 -0.192700 -3.136771e-01\n",
       "6      2  2.167755  1.045200e+00\n",
       "7      3 -0.913557 -7.561022e-01"
      ]
     },
     "execution_count": 15,
     "metadata": {},
     "output_type": "execute_result"
    }
   ],
   "source": [
    "covariates = info[['TICI','TSS','TTT']]\n",
    "covariates.loc[:,'TSS'] = stand(covariates.TSS)\n",
    "covariates.loc[:,'TTT'] = stand(covariates.TTT)\n",
    "covariates.loc[:,'TICI'] = np.array([int(tici[0]) for tici in covariates.TICI])\n",
    "covariates"
   ]
  },
  {
   "cell_type": "code",
   "execution_count": 16,
   "metadata": {
    "collapsed": false
   },
   "outputs": [
    {
     "data": {
      "text/plain": [
       "0     1\n",
       "8     1\n",
       "9     1\n",
       "10    1\n",
       "11    2\n",
       "12    2\n",
       "13    0\n",
       "14    1\n",
       "15    4\n",
       "16    0\n",
       "1     1\n",
       "17    1\n",
       "18    1\n",
       "19    3\n",
       "20    1\n",
       "21    2\n",
       "22    2\n",
       "23    3\n",
       "24    1\n",
       "25    3\n",
       "26    3\n",
       "27    2\n",
       "28    3\n",
       "29    2\n",
       "2     4\n",
       "3     2\n",
       "4     1\n",
       "5     2\n",
       "6     1\n",
       "7     1\n",
       "Name: mRS, dtype: int64"
      ]
     },
     "execution_count": 16,
     "metadata": {},
     "output_type": "execute_result"
    }
   ],
   "source": [
    "info.mRS"
   ]
  },
  {
   "cell_type": "code",
   "execution_count": 17,
   "metadata": {
    "collapsed": true
   },
   "outputs": [],
   "source": [
    "np.save(arr = covariates, file='../input/medInfo.npy')\n",
    "np.save(arr = info.mRS, file='../input/LabelTask2.npy')"
   ]
  },
  {
   "cell_type": "code",
   "execution_count": 18,
   "metadata": {
    "collapsed": false,
    "scrolled": true
   },
   "outputs": [
    {
     "data": {
      "text/plain": [
       "array([[  2.00000000e+00,   7.58549329e-02,  -7.56102176e-01],\n",
       "       [  3.00000000e+00,  -3.76447773e-01,  -5.98093207e-01],\n",
       "       [  0.00000000e+00,  -3.62313313e-01,   3.54174177e+00],\n",
       "       [  3.00000000e+00,   3.34515543e-02,   4.76367780e-01],\n",
       "       [  2.00000000e+00,   2.87871826e-01,  -7.24500382e-01],\n",
       "       [  3.00000000e+00,  -2.77506556e-01,   3.18358811e-01],\n",
       "       [  2.00000000e+00,   1.33382183e+00,   6.97580336e-01],\n",
       "       [  2.00000000e+00,  -4.89523449e-01,  -1.55668095e-01],\n",
       "       [  1.00000000e+00,   3.72678584e-01,  -7.87703970e-01],\n",
       "       [  2.00000000e+00,   1.78612454e+00,  -8.82509351e-01],\n",
       "       [  2.00000000e+00,  -7.01540343e-01,   1.29801442e+00],\n",
       "       [  1.00000000e+00,   5.84695477e-01,   2.23553430e-01],\n",
       "       [  2.00000000e+00,   1.27728400e+00,   1.91951636e-01],\n",
       "       [  0.00000000e+00,  -2.35103177e-01,   1.04520007e+00],\n",
       "       [  0.00000000e+00,  -8.85288317e-01,   7.60783923e-01],\n",
       "       [  0.00000000e+00,  -6.59136964e-01,  -1.19852729e+00],\n",
       "       [  2.00000000e+00,   1.98400697e+00,  -4.40084239e-01],\n",
       "       [  1.00000000e+00,  -1.05490183e+00,  -9.45712938e-01],\n",
       "       [  2.00000000e+00,   1.04123852e-01,   4.49088499e-16],\n",
       "       [  3.00000000e+00,  -1.32345656e+00,   4.49088499e-16],\n",
       "       [  2.00000000e+00,   1.99814143e+00,  -5.03287826e-01],\n",
       "       [  2.00000000e+00,  -1.26691872e+00,  -9.14111145e-01],\n",
       "       [  0.00000000e+00,  -3.19909935e-01,   4.49088499e-16],\n",
       "       [  3.00000000e+00,  -8.85288317e-01,  -1.26173088e+00],\n",
       "       [  3.00000000e+00,  -5.46061287e-01,  -5.03287826e-01],\n",
       "       [  3.00000000e+00,  -1.04076737e+00,   1.67723594e+00],\n",
       "       [  2.00000000e+00,  -4.75388990e-01,  -5.34889620e-01],\n",
       "       [  2.00000000e+00,  -1.92699799e-01,  -3.13677064e-01],\n",
       "       [  2.00000000e+00,   2.16775495e+00,   1.04520007e+00],\n",
       "       [  3.00000000e+00,  -9.13557236e-01,  -7.56102176e-01]])"
      ]
     },
     "execution_count": 18,
     "metadata": {},
     "output_type": "execute_result"
    }
   ],
   "source": [
    "np.load('../input/medInfo.npy')"
   ]
  },
  {
   "cell_type": "code",
   "execution_count": 19,
   "metadata": {
    "collapsed": false
   },
   "outputs": [
    {
     "data": {
      "text/plain": [
       "array([1, 1, 1, 1, 2, 2, 0, 1, 4, 0, 1, 1, 1, 3, 1, 2, 2, 3, 1, 3, 3, 2, 3,\n",
       "       2, 4, 2, 1, 2, 1, 1])"
      ]
     },
     "execution_count": 19,
     "metadata": {},
     "output_type": "execute_result"
    }
   ],
   "source": [
    "np.load('../input/LabelTask2.npy')"
   ]
  },
  {
   "cell_type": "code",
   "execution_count": 20,
   "metadata": {
    "collapsed": false
   },
   "outputs": [
    {
     "data": {
      "text/plain": [
       "<matplotlib.collections.PathCollection at 0x7fddbd9b7590>"
      ]
     },
     "execution_count": 20,
     "metadata": {},
     "output_type": "execute_result"
    },
    {
     "data": {
      "image/png": "[encoded data removed]",
      "text/plain": [
       "<matplotlib.figure.Figure at 0x7fddbd9a40d0>"
      ]
     },
     "metadata": {},
     "output_type": "display_data"
    }
   ],
   "source": [
    "y = info.GT\n",
    "x = info.mRS\n",
    "\n",
    "plt.title('GT vs mRS')\n",
    "plt.scatter(x,y)"
   ]
  },
  {
   "cell_type": "code",
   "execution_count": 19,
   "metadata": {
    "collapsed": false
   },
   "outputs": [
    {
     "data": {
      "text/plain": [
       "<matplotlib.collections.PathCollection at 0x7f556356ee50>"
      ]
     },
     "execution_count": 19,
     "metadata": {},
     "output_type": "execute_result"
    },
    {
     "data": {
      "image/png": "[encoded data removed]",
      "text/plain": [
       "<matplotlib.figure.Figure at 0x7f5563732f10>"
      ]
     },
     "metadata": {},
     "output_type": "display_data"
    }
   ],
   "source": [
    "y = np.log(info.GT)\n",
    "x = info.TTT\n",
    "\n",
    "plt.title('GT vs TTT')\n",
    "plt.scatter(x,y)"
   ]
  },
  {
   "cell_type": "code",
   "execution_count": 20,
   "metadata": {
    "collapsed": false
   },
   "outputs": [
    {
     "data": {
      "text/plain": [
       "<matplotlib.collections.PathCollection at 0x7f55634b2d10>"
      ]
     },
     "execution_count": 20,
     "metadata": {},
     "output_type": "execute_result"
    },
    {
     "data": {
      "image/png": "[encoded data removed]",
      "text/plain": [
       "<matplotlib.figure.Figure at 0x7f5563588810>"
      ]
     },
     "metadata": {},
     "output_type": "display_data"
    }
   ],
   "source": [
    "y = info.GT\n",
    "x = info.TSS\n",
    "\n",
    "plt.title('GT vs TSS')\n",
    "plt.scatter(x,y)"
   ]
  },
  {
   "cell_type": "code",
   "execution_count": 21,
   "metadata": {
    "collapsed": false
   },
   "outputs": [
    {
     "data": {
      "text/plain": [
       "<matplotlib.collections.PathCollection at 0x7f55633fa290>"
      ]
     },
     "execution_count": 21,
     "metadata": {},
     "output_type": "execute_result"
    },
    {
     "data": {
      "image/png": "[encoded data removed]",
      "text/plain": [
       "<matplotlib.figure.Figure at 0x7f55634ccd90>"
      ]
     },
     "metadata": {},
     "output_type": "display_data"
    }
   ],
   "source": [
    "y = info.mRS\n",
    "x = info.TTT\n",
    "\n",
    "plt.title('mRS vs TTT')\n",
    "plt.scatter(y,x)"
   ]
  },
  {
   "cell_type": "code",
   "execution_count": 22,
   "metadata": {
    "collapsed": false
   },
   "outputs": [
    {
     "data": {
      "text/plain": [
       "<matplotlib.collections.PathCollection at 0x7f556332fbd0>"
      ]
     },
     "execution_count": 22,
     "metadata": {},
     "output_type": "execute_result"
    },
    {
     "data": {
      "image/png": "[encoded data removed]",
      "text/plain": [
       "<matplotlib.figure.Figure at 0x7f556340eb10>"
      ]
     },
     "metadata": {},
     "output_type": "display_data"
    }
   ],
   "source": [
    "y = info.mRS\n",
    "x = info.TSS\n",
    "\n",
    "plt.title('mRS vs TSS')\n",
    "plt.scatter(y,x)"
   ]
  },
  {
   "cell_type": "code",
   "execution_count": null,
   "metadata": {
    "collapsed": false
   },
   "outputs": [],
   "source": []
  },
  {
   "cell_type": "code",
   "execution_count": null,
   "metadata": {
    "collapsed": true
   },
   "outputs": [],
   "source": []
  }
 ],
 "metadata": {
  "kernelspec": {
   "display_name": "Python 2",
   "language": "python",
   "name": "python2"
  },
  "language_info": {
   "codemirror_mode": {
    "name": "ipython",
    "version": 2
   },
   "file_extension": ".py",
   "mimetype": "text/x-python",
   "name": "python",
   "nbconvert_exporter": "python",
   "pygments_lexer": "ipython2",
   "version": "2.7.6"
  }
 },
 "nbformat": 4,
 "nbformat_minor": 0
}
