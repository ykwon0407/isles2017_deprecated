{
 "cells": [
  {
   "cell_type": "code",
   "execution_count": 1,
   "metadata": {
    "collapsed": false
   },
   "outputs": [
    {
     "name": "stderr",
     "output_type": "stream",
     "text": [
      "Using Theano backend.\n",
      "Using gpu device 0: GeForce GTX TITAN X (CNMeM is enabled with initial size: 70.0% of memory, cuDNN 5005)\n"
     ]
    }
   ],
   "source": [
    "from keras.utils.visualize_util import plot\n",
    "from unet_model_multiscale import *"
   ]
  },
  {
   "cell_type": "code",
   "execution_count": 2,
   "metadata": {
    "collapsed": false
   },
   "outputs": [
    {
     "name": "stdout",
     "output_type": "stream",
     "text": [
      "U-net!!!!!!!!!!!!!!!!\n"
     ]
    }
   ],
   "source": [
    "model = get_unet_old(n=8)\n",
    "plot(model, to_file='./png/model_vanilaU.png')"
   ]
  },
  {
   "cell_type": "code",
   "execution_count": 3,
   "metadata": {
    "collapsed": false
   },
   "outputs": [
    {
     "name": "stdout",
     "output_type": "stream",
     "text": [
      "U-net!!!!!!!!!!!!!!!!\n"
     ]
    }
   ],
   "source": [
    "model = get_unet_multiscale_old(n=8)\n",
    "plot(model, to_file='./png/model_multiscaleU.png')"
   ]
  },
  {
   "cell_type": "code",
   "execution_count": 4,
   "metadata": {
    "collapsed": false
   },
   "outputs": [
    {
     "name": "stdout",
     "output_type": "stream",
     "text": [
      "Multiscale Res U-net with dropout!!!!!!!!!!!!!!!!\n"
     ]
    }
   ],
   "source": [
    "model = get_unet_multiscale_resu(n=8)\n",
    "plot(model, to_file='./png/model_resU.png')"
   ]
  },
  {
   "cell_type": "code",
   "execution_count": 6,
   "metadata": {
    "collapsed": false
   },
   "outputs": [
    {
     "name": "stdout",
     "output_type": "stream",
     "text": [
      "Multiscale Res U-net with dropout!!!!!!!!!!!!!!!!\n"
     ]
    }
   ],
   "source": [
    "model = get_unet_multiscale_resu_med(4,8,8,n=8)\n",
    "plot(model, to_file='./png/model_resU_med.png')"
   ]
  },
  {
   "cell_type": "code",
   "execution_count": null,
   "metadata": {
    "collapsed": true
   },
   "outputs": [],
   "source": []
  }
 ],
 "metadata": {
  "kernelspec": {
   "display_name": "Python 2",
   "language": "python",
   "name": "python2"
  },
  "language_info": {
   "codemirror_mode": {
    "name": "ipython",
    "version": 2
   },
   "file_extension": ".py",
   "mimetype": "text/x-python",
   "name": "python",
   "nbconvert_exporter": "python",
   "pygments_lexer": "ipython2",
   "version": "2.7.6"
  }
 },
 "nbformat": 4,
 "nbformat_minor": 0
}
