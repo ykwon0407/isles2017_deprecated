{
 "cells": [
  {
   "cell_type": "code",
   "execution_count": 1,
   "metadata": {
    "collapsed": false
   },
   "outputs": [
    {
     "name": "stderr",
     "output_type": "stream",
     "text": [
      "Using Theano backend.\n",
      "Using gpu device 0: GeForce GTX TITAN X (CNMeM is enabled with initial size: 70.0% of memory, cuDNN 5005)\n"
     ]
    }
   ],
   "source": [
    "from sklearn.cross_validation import KFold\n",
    "import numpy as np\n",
    "from keras.callbacks import ModelCheckpoint, LearningRateScheduler, EarlyStopping\n",
    "from data_multiscale import *\n",
    "from sklearn.metrics import confusion_matrix\n",
    "import click\n",
    "from unet_model_multiscale import *\n",
    "import gc\n",
    "from util import *\n",
    "\n",
    "%load_ext autoreload\n",
    "%autoreload 2\n",
    "\n",
    "def scheduler(epoch):\n",
    "    return lr*(0.99 ** epoch)"
   ]
  },
  {
   "cell_type": "code",
   "execution_count": 2,
   "metadata": {
    "collapsed": false
   },
   "outputs": [
    {
     "name": "stdout",
     "output_type": "stream",
     "text": [
      "row_size: 8, channel_size: 4\n",
      "num_patch: 2000, proportion: 0.75\n",
      "learning rate: 0.001, batch_size: 128\n",
      "model number: 1, Epochs: 150\n",
      "net_size: 8, repeat: 4\n"
     ]
    }
   ],
   "source": [
    "row_size, channel_size = 8, 4\n",
    "num_patch, proportion = 2000, 0.75\n",
    "learning, batch_size = 1e-3, 128\n",
    "model_num, nb_epoch = 1, 150\n",
    "rep, net_size = 4, 8\n",
    "\n",
    "global lr\n",
    "lr = learning\n",
    "time_stamp = 6\n",
    "\n",
    "datadir_train = '../input/Training/training_'\n",
    "subject_list_train = sorted(glob(datadir_train+'*'))\n",
    "N_train = len(subject_list_train)\n",
    "    \n",
    "print(\"row_size: {}, channel_size: {}\".format(row_size, channel_size))\n",
    "print(\"num_patch: {}, proportion: {}\".format(num_patch, proportion))\n",
    "print(\"learning rate: {}, batch_size: {}\".format(learning, batch_size))\n",
    "print(\"model number: {}, Epochs: {}\".format(model_num, nb_epoch))     \n",
    "print(\"net_size: {}, repeat: {}\".format(net_size, rep))  \n"
   ]
  },
  {
   "cell_type": "code",
   "execution_count": 3,
   "metadata": {
    "collapsed": false,
    "scrolled": true
   },
   "outputs": [
    {
     "name": "stdout",
     "output_type": "stream",
     "text": [
      "Train 1-Fold\n",
      "Load Train\n",
      "START POOLING: TRAINING\n",
      "DONE POOLING: TRAINING\n",
      "Load Validation\n",
      "START POOLING: VALIDATION\n",
      "DONE POOLING: VALIDATION\n",
      "(15.680395833333334, 1.1962968728666503)\n",
      "BETA VERSION\n",
      "BETA!!!!!!!!!!!!!!!!\n",
      "NUMBER OF PARAMETERS: 57683\n",
      "Fitting model...\n",
      "(96000, 6, 4, 8, 8)\n",
      "(1.5136786, 0.43556261)\n",
      "(96000, 6, 4, 8, 8)\n",
      "Train on 96000 samples, validate on 12000 samples\n",
      "Epoch 1/150\n",
      "96000/96000 [==============================] - 143s - loss: 152.0286 - main_output_loss: -0.4146 - aux_output_loss: 1524.4325 - main_output_dice_coef: 0.4146 - aux_output_dice_coef: 66.3186 - val_loss: 20.4374 - val_main_output_loss: -0.3028 - val_aux_output_loss: 207.4022 - val_main_output_dice_coef: 0.3028 - val_aux_output_dice_coef: 0.9749\n",
      "Epoch 2/150\n",
      "13312/96000 [===>..........................] - ETA: 120s - loss: 135.0244 - main_output_loss: -0.4908 - aux_output_loss: 1355.1523 - main_output_dice_coef: 0.4908 - aux_output_dice_coef: 83.5288"
     ]
    },
    {
     "ename": "KeyboardInterrupt",
     "evalue": "",
     "output_type": "error",
     "traceback": [
      "\u001b[1;31m---------------------------------------------------------------------------\u001b[0m",
      "\u001b[1;31mKeyboardInterrupt\u001b[0m                         Traceback (most recent call last)",
      "\u001b[1;32m<ipython-input-3-2f01bd2ce902>\u001b[0m in \u001b[0;36m<module>\u001b[1;34m()\u001b[0m\n\u001b[0;32m     33\u001b[0m               validation_data=({'main_input':X_val, 'scaled_input': X_val_tr}, \\\n\u001b[0;32m     34\u001b[0m                 {'main_output' : y_val, 'aux_output' : GT_list_val}),\n\u001b[1;32m---> 35\u001b[1;33m               callbacks=[early_stopping, model_checkpoint, change_lr])\n\u001b[0m\u001b[0;32m     36\u001b[0m \u001b[1;33m\u001b[0m\u001b[0m\n\u001b[0;32m     37\u001b[0m     \u001b[1;32mprint\u001b[0m\u001b[1;33m(\u001b[0m\u001b[1;34m'Validating model...'\u001b[0m\u001b[1;33m)\u001b[0m\u001b[1;33m\u001b[0m\u001b[0m\n",
      "\u001b[1;32m/usr/local/lib/python2.7/dist-packages/keras/engine/training.pyc\u001b[0m in \u001b[0;36mfit\u001b[1;34m(self, x, y, batch_size, nb_epoch, verbose, callbacks, validation_split, validation_data, shuffle, class_weight, sample_weight)\u001b[0m\n\u001b[0;32m   1105\u001b[0m                               \u001b[0mverbose\u001b[0m\u001b[1;33m=\u001b[0m\u001b[0mverbose\u001b[0m\u001b[1;33m,\u001b[0m \u001b[0mcallbacks\u001b[0m\u001b[1;33m=\u001b[0m\u001b[0mcallbacks\u001b[0m\u001b[1;33m,\u001b[0m\u001b[1;33m\u001b[0m\u001b[0m\n\u001b[0;32m   1106\u001b[0m                               \u001b[0mval_f\u001b[0m\u001b[1;33m=\u001b[0m\u001b[0mval_f\u001b[0m\u001b[1;33m,\u001b[0m \u001b[0mval_ins\u001b[0m\u001b[1;33m=\u001b[0m\u001b[0mval_ins\u001b[0m\u001b[1;33m,\u001b[0m \u001b[0mshuffle\u001b[0m\u001b[1;33m=\u001b[0m\u001b[0mshuffle\u001b[0m\u001b[1;33m,\u001b[0m\u001b[1;33m\u001b[0m\u001b[0m\n\u001b[1;32m-> 1107\u001b[1;33m                               callback_metrics=callback_metrics)\n\u001b[0m\u001b[0;32m   1108\u001b[0m \u001b[1;33m\u001b[0m\u001b[0m\n\u001b[0;32m   1109\u001b[0m     \u001b[1;32mdef\u001b[0m \u001b[0mevaluate\u001b[0m\u001b[1;33m(\u001b[0m\u001b[0mself\u001b[0m\u001b[1;33m,\u001b[0m \u001b[0mx\u001b[0m\u001b[1;33m,\u001b[0m \u001b[0my\u001b[0m\u001b[1;33m,\u001b[0m \u001b[0mbatch_size\u001b[0m\u001b[1;33m=\u001b[0m\u001b[1;36m32\u001b[0m\u001b[1;33m,\u001b[0m \u001b[0mverbose\u001b[0m\u001b[1;33m=\u001b[0m\u001b[1;36m1\u001b[0m\u001b[1;33m,\u001b[0m \u001b[0msample_weight\u001b[0m\u001b[1;33m=\u001b[0m\u001b[0mNone\u001b[0m\u001b[1;33m)\u001b[0m\u001b[1;33m:\u001b[0m\u001b[1;33m\u001b[0m\u001b[0m\n",
      "\u001b[1;32m/usr/local/lib/python2.7/dist-packages/keras/engine/training.pyc\u001b[0m in \u001b[0;36m_fit_loop\u001b[1;34m(self, f, ins, out_labels, batch_size, nb_epoch, verbose, callbacks, val_f, val_ins, shuffle, callback_metrics)\u001b[0m\n\u001b[0;32m    823\u001b[0m                 \u001b[0mbatch_logs\u001b[0m\u001b[1;33m[\u001b[0m\u001b[1;34m'size'\u001b[0m\u001b[1;33m]\u001b[0m \u001b[1;33m=\u001b[0m \u001b[0mlen\u001b[0m\u001b[1;33m(\u001b[0m\u001b[0mbatch_ids\u001b[0m\u001b[1;33m)\u001b[0m\u001b[1;33m\u001b[0m\u001b[0m\n\u001b[0;32m    824\u001b[0m                 \u001b[0mcallbacks\u001b[0m\u001b[1;33m.\u001b[0m\u001b[0mon_batch_begin\u001b[0m\u001b[1;33m(\u001b[0m\u001b[0mbatch_index\u001b[0m\u001b[1;33m,\u001b[0m \u001b[0mbatch_logs\u001b[0m\u001b[1;33m)\u001b[0m\u001b[1;33m\u001b[0m\u001b[0m\n\u001b[1;32m--> 825\u001b[1;33m                 \u001b[0mouts\u001b[0m \u001b[1;33m=\u001b[0m \u001b[0mf\u001b[0m\u001b[1;33m(\u001b[0m\u001b[0mins_batch\u001b[0m\u001b[1;33m)\u001b[0m\u001b[1;33m\u001b[0m\u001b[0m\n\u001b[0m\u001b[0;32m    826\u001b[0m                 \u001b[1;32mif\u001b[0m \u001b[0mtype\u001b[0m\u001b[1;33m(\u001b[0m\u001b[0mouts\u001b[0m\u001b[1;33m)\u001b[0m \u001b[1;33m!=\u001b[0m \u001b[0mlist\u001b[0m\u001b[1;33m:\u001b[0m\u001b[1;33m\u001b[0m\u001b[0m\n\u001b[0;32m    827\u001b[0m                     \u001b[0mouts\u001b[0m \u001b[1;33m=\u001b[0m \u001b[1;33m[\u001b[0m\u001b[0mouts\u001b[0m\u001b[1;33m]\u001b[0m\u001b[1;33m\u001b[0m\u001b[0m\n",
      "\u001b[1;32m/usr/local/lib/python2.7/dist-packages/keras/backend/theano_backend.pyc\u001b[0m in \u001b[0;36m__call__\u001b[1;34m(self, inputs)\u001b[0m\n\u001b[0;32m    653\u001b[0m     \u001b[1;32mdef\u001b[0m \u001b[0m__call__\u001b[0m\u001b[1;33m(\u001b[0m\u001b[0mself\u001b[0m\u001b[1;33m,\u001b[0m \u001b[0minputs\u001b[0m\u001b[1;33m)\u001b[0m\u001b[1;33m:\u001b[0m\u001b[1;33m\u001b[0m\u001b[0m\n\u001b[0;32m    654\u001b[0m         \u001b[1;32massert\u001b[0m \u001b[0mtype\u001b[0m\u001b[1;33m(\u001b[0m\u001b[0minputs\u001b[0m\u001b[1;33m)\u001b[0m \u001b[1;32min\u001b[0m \u001b[1;33m{\u001b[0m\u001b[0mlist\u001b[0m\u001b[1;33m,\u001b[0m \u001b[0mtuple\u001b[0m\u001b[1;33m}\u001b[0m\u001b[1;33m\u001b[0m\u001b[0m\n\u001b[1;32m--> 655\u001b[1;33m         \u001b[1;32mreturn\u001b[0m \u001b[0mself\u001b[0m\u001b[1;33m.\u001b[0m\u001b[0mfunction\u001b[0m\u001b[1;33m(\u001b[0m\u001b[1;33m*\u001b[0m\u001b[0minputs\u001b[0m\u001b[1;33m)\u001b[0m\u001b[1;33m\u001b[0m\u001b[0m\n\u001b[0m\u001b[0;32m    656\u001b[0m \u001b[1;33m\u001b[0m\u001b[0m\n\u001b[0;32m    657\u001b[0m \u001b[1;33m\u001b[0m\u001b[0m\n",
      "\u001b[1;32m/usr/local/lib/python2.7/dist-packages/theano/compile/function_module.pyc\u001b[0m in \u001b[0;36m__call__\u001b[1;34m(self, *args, **kwargs)\u001b[0m\n\u001b[0;32m    857\u001b[0m         \u001b[0mt0_fn\u001b[0m \u001b[1;33m=\u001b[0m \u001b[0mtime\u001b[0m\u001b[1;33m.\u001b[0m\u001b[0mtime\u001b[0m\u001b[1;33m(\u001b[0m\u001b[1;33m)\u001b[0m\u001b[1;33m\u001b[0m\u001b[0m\n\u001b[0;32m    858\u001b[0m         \u001b[1;32mtry\u001b[0m\u001b[1;33m:\u001b[0m\u001b[1;33m\u001b[0m\u001b[0m\n\u001b[1;32m--> 859\u001b[1;33m             \u001b[0moutputs\u001b[0m \u001b[1;33m=\u001b[0m \u001b[0mself\u001b[0m\u001b[1;33m.\u001b[0m\u001b[0mfn\u001b[0m\u001b[1;33m(\u001b[0m\u001b[1;33m)\u001b[0m\u001b[1;33m\u001b[0m\u001b[0m\n\u001b[0m\u001b[0;32m    860\u001b[0m         \u001b[1;32mexcept\u001b[0m \u001b[0mException\u001b[0m\u001b[1;33m:\u001b[0m\u001b[1;33m\u001b[0m\u001b[0m\n\u001b[0;32m    861\u001b[0m             \u001b[1;32mif\u001b[0m \u001b[0mhasattr\u001b[0m\u001b[1;33m(\u001b[0m\u001b[0mself\u001b[0m\u001b[1;33m.\u001b[0m\u001b[0mfn\u001b[0m\u001b[1;33m,\u001b[0m \u001b[1;34m'position_of_error'\u001b[0m\u001b[1;33m)\u001b[0m\u001b[1;33m:\u001b[0m\u001b[1;33m\u001b[0m\u001b[0m\n",
      "\u001b[1;32m/usr/local/lib/python2.7/dist-packages/theano/gof/op.pyc\u001b[0m in \u001b[0;36mrval\u001b[1;34m(p, i, o, n)\u001b[0m\n\u001b[0;32m    909\u001b[0m         \u001b[1;32mif\u001b[0m \u001b[0mparams\u001b[0m \u001b[1;32mis\u001b[0m \u001b[0mgraph\u001b[0m\u001b[1;33m.\u001b[0m\u001b[0mNoParams\u001b[0m\u001b[1;33m:\u001b[0m\u001b[1;33m\u001b[0m\u001b[0m\n\u001b[0;32m    910\u001b[0m             \u001b[1;31m# default arguments are stored in the closure of `rval`\u001b[0m\u001b[1;33m\u001b[0m\u001b[1;33m\u001b[0m\u001b[0m\n\u001b[1;32m--> 911\u001b[1;33m             \u001b[1;32mdef\u001b[0m \u001b[0mrval\u001b[0m\u001b[1;33m(\u001b[0m\u001b[0mp\u001b[0m\u001b[1;33m=\u001b[0m\u001b[0mp\u001b[0m\u001b[1;33m,\u001b[0m \u001b[0mi\u001b[0m\u001b[1;33m=\u001b[0m\u001b[0mnode_input_storage\u001b[0m\u001b[1;33m,\u001b[0m \u001b[0mo\u001b[0m\u001b[1;33m=\u001b[0m\u001b[0mnode_output_storage\u001b[0m\u001b[1;33m,\u001b[0m \u001b[0mn\u001b[0m\u001b[1;33m=\u001b[0m\u001b[0mnode\u001b[0m\u001b[1;33m)\u001b[0m\u001b[1;33m:\u001b[0m\u001b[1;33m\u001b[0m\u001b[0m\n\u001b[0m\u001b[0;32m    912\u001b[0m                 \u001b[0mr\u001b[0m \u001b[1;33m=\u001b[0m \u001b[0mp\u001b[0m\u001b[1;33m(\u001b[0m\u001b[0mn\u001b[0m\u001b[1;33m,\u001b[0m \u001b[1;33m[\u001b[0m\u001b[0mx\u001b[0m\u001b[1;33m[\u001b[0m\u001b[1;36m0\u001b[0m\u001b[1;33m]\u001b[0m \u001b[1;32mfor\u001b[0m \u001b[0mx\u001b[0m \u001b[1;32min\u001b[0m \u001b[0mi\u001b[0m\u001b[1;33m]\u001b[0m\u001b[1;33m,\u001b[0m \u001b[0mo\u001b[0m\u001b[1;33m)\u001b[0m\u001b[1;33m\u001b[0m\u001b[0m\n\u001b[0;32m    913\u001b[0m                 \u001b[1;32mfor\u001b[0m \u001b[0mo\u001b[0m \u001b[1;32min\u001b[0m \u001b[0mnode\u001b[0m\u001b[1;33m.\u001b[0m\u001b[0moutputs\u001b[0m\u001b[1;33m:\u001b[0m\u001b[1;33m\u001b[0m\u001b[0m\n",
      "\u001b[1;31mKeyboardInterrupt\u001b[0m: "
     ]
    }
   ],
   "source": [
    "count = 0\n",
    "kf = KFold(n=N_train, n_folds=5, random_state=777)\n",
    "result =[]\n",
    "for tr_list, te_list in kf:\n",
    "    count += 1\n",
    "    print(\"Train {}-Fold\".format(count))\n",
    "\n",
    "    print(\"Load Train\")\n",
    "    X_train, X_train_tr, y_train, GT_list_train = make_train_data_multiscale((tr_list), \\\n",
    "        row_size_=row_size, channel_size_=channel_size, num_patch_=num_patch, proportion_=proportion)\n",
    "    X_train, X_train_tr, y_train, mean, std, mean_tr, std_tr = preprocess_multi(X=X_train, \\\n",
    "        X_tr=X_train_tr, y=y_train)\n",
    "\n",
    "    print(\"Load Validation\")\n",
    "    X_val, X_val_tr, y_val, GT_list_val = make_test_data_multiscale((te_list), row_size_=row_size,\\\n",
    "     channel_size_=channel_size, num_patch_=num_patch, isVal_=True)\n",
    "    X_val, X_val_tr, y_val = preprocess_multi(X= X_val, X_tr=X_val_tr, y=y_val,\\\n",
    "     mean = mean, std = std, mean_tr= mean_tr, std_tr= std_tr)\n",
    "    \n",
    "    print(np.mean(GT_list_train),np.mean(GT_list_val))\n",
    "    \n",
    "    print('BETA VERSION')\n",
    "    model = get_unet_multiscale_beta(channel_size, row_size, row_size, model_num, n=net_size, lr=learning, repeat=rep)\n",
    "\n",
    "    info_check_string = './weights/unet_multi_m_{}_p_{}_pro_{}_r_{}_n_{}_re_{}_f_{}.hdf5'.format(model_num, num_patch, proportion, row_size, net_size, rep, count)\n",
    "    print(\"NUMBER OF PARAMETERS: {}\".format(model.count_params()))\n",
    "\n",
    "    model_checkpoint = ModelCheckpoint(info_check_string, monitor='loss', save_best_only=True)\n",
    "    early_stopping = EarlyStopping(monitor='val_loss', patience=5)\n",
    "    change_lr = LearningRateScheduler(scheduler)\n",
    "\n",
    "    print('Fitting model...')\n",
    "    print(X_train.shape)\n",
    "    print(np.mean(X_train[0][0]), np.std(X_train[0][0]))\n",
    "    print(X_train_tr.shape)        \n",
    "    model.fit({'main_input':X_train, 'scaled_input': X_train_tr}, \\\n",
    "        {'main_output' : y_train, 'aux_output' : GT_list_train}, \\\n",
    "        batch_size=batch_size, nb_epoch=nb_epoch, shuffle=True,\n",
    "              validation_data=({'main_input':X_val, 'scaled_input': X_val_tr}, \\\n",
    "                {'main_output' : y_val, 'aux_output' : GT_list_val}),\n",
    "              callbacks=[early_stopping, model_checkpoint, change_lr])\n",
    "\n",
    "    print('Validating model...')\n",
    "    stride = 2\n",
    "    _, label_list = make_data_list((te_list), isTrainOrVal = True, isFix=False)\n",
    "    X_val_patch, X_val_patch_tr, cache = make_test_data_multiscale((te_list), \\\n",
    "        row_size_=row_size, channel_size_=channel_size, isVal_=False, \\\n",
    "        patch_w_stride_ = row_size/stride, patch_c_stride_ = channel_size/2, isFix=True)\n",
    "    N_val = len(X_val_patch)\n",
    "\n",
    "    for i in xrange(N_val):\n",
    "        compare_list = []\n",
    "        X_val_patch_i = np.transpose( X_val_patch[i].reshape(time_stamp, -1, \\\n",
    "            channel_size, row_size, row_size), (1,0,2,3,4) )\n",
    "        X_val_patch_tr_i = np.transpose( X_val_patch_tr[i].reshape(time_stamp, -1, \\\n",
    "            channel_size, row_size, row_size), (1,0,2,3,4) )\n",
    "        X_val_patch_i, X_val_patch_tr_i = preprocess_multi(X=X_val_patch_i, \\\n",
    "            X_tr=X_val_patch_tr_i, y=None,  mean = mean, std = std, mean_tr= mean_tr, std_tr= std_tr)\n",
    "\n",
    "        y_val_patch_pred_i = model.predict({'main_input':X_val_patch_i, 'scaled_input': X_val_patch_tr_i}, \\\n",
    "            batch_size=batch_size)[0]\n",
    "        y_val_patch_pred = make_brain_multiscale(y_val_patch_pred_i, cache[i], patch_w_stride = row_size/stride, \\\n",
    "            patch_c_stride = channel_size/2)\n",
    "\n",
    "        y_val_patch_pred /= ((stride ** 2) * 2.0)\n",
    "        y_val_patch_pred = (y_val_patch_pred >= 0.5)\n",
    "\n",
    "        GT_Y = np.transpose(np.array(label_list[i]), (2,0,1))\n",
    "        zoomRate = [float(ai)/bi for ai, bi in zip(GT_Y.shape, y_val_patch_pred.shape)]\n",
    "        y_val_patch_pred = transform_sol(y_val_patch_pred, zoomRate)\n",
    "        y_val_patch_pred = (y_val_patch_pred >= 0.5)\n",
    "\n",
    "        print(i)\n",
    "        for j in xrange(GT_Y.shape[0]):\n",
    "            compare_list.append([np.sum(y_val_patch_pred[j]), np.sum(GT_Y[j])])\n",
    "        print(compare_list)\n",
    "        dice_coef= cal_dice_coef( y_val_patch_pred.reshape(-1), GT_Y.reshape(-1))            \n",
    "        print('Dice Coef: {}'.format(dice_coef))\n",
    "        result.append(dice_coef)\n",
    "\n",
    "result\n"
   ]
  },
  {
   "cell_type": "code",
   "execution_count": 4,
   "metadata": {
    "collapsed": false
   },
   "outputs": [
    {
     "name": "stdout",
     "output_type": "stream",
     "text": [
      "Validating model...\n",
      "0\n",
      "[[740, 0], [513, 0], [2014, 0], [3355, 0], [5241, 0], [4472, 0], [3875, 0], [3316, 0], [2180, 0], [2601, 0], [2408, 111], [4561, 100], [3188, 0], [2600, 0], [1806, 0], [535, 0], [287, 0], [1, 0], [0, 0]]\n",
      "Dice Coef: 0.00838192419825\n",
      "1\n",
      "[[36, 0.0], [32, 0.0], [677, 0.0], [690, 0.0], [765, 0.0], [1290, 0.0], [1293, 0.0], [1363, 0.0], [2757, 0.0], [2404, 0.0], [3401, 33.0], [2782, 64.0], [1813, 54.0], [2107, 18.0], [1266, 12.0], [696, 13.0], [915, 0.0], [257, 0.0], [102, 0.0], [273, 0.0], [66, 0.0], [32, 0.0], [0, 0.0], [0, 0.0], [0, 0.0]]\n",
      "Dice Coef: 0.0141208202769\n"
     ]
    },
    {
     "ename": "KeyboardInterrupt",
     "evalue": "",
     "output_type": "error",
     "traceback": [
      "\u001b[1;31m---------------------------------------------------------------------------\u001b[0m",
      "\u001b[1;31mKeyboardInterrupt\u001b[0m                         Traceback (most recent call last)",
      "\u001b[1;32m<ipython-input-4-161f14e83caf>\u001b[0m in \u001b[0;36m<module>\u001b[1;34m()\u001b[0m\n\u001b[0;32m     11\u001b[0m     \u001b[0mX_val_patch_i\u001b[0m\u001b[1;33m,\u001b[0m \u001b[0mX_val_patch_tr_i\u001b[0m \u001b[1;33m=\u001b[0m \u001b[0mpreprocess_multi\u001b[0m\u001b[1;33m(\u001b[0m\u001b[0mX\u001b[0m\u001b[1;33m=\u001b[0m\u001b[0mX_val_patch_i\u001b[0m\u001b[1;33m,\u001b[0m         \u001b[0mX_tr\u001b[0m\u001b[1;33m=\u001b[0m\u001b[0mX_val_patch_tr_i\u001b[0m\u001b[1;33m,\u001b[0m \u001b[0my\u001b[0m\u001b[1;33m=\u001b[0m\u001b[0mNone\u001b[0m\u001b[1;33m,\u001b[0m  \u001b[0mmean\u001b[0m \u001b[1;33m=\u001b[0m \u001b[0mmean\u001b[0m\u001b[1;33m,\u001b[0m \u001b[0mstd\u001b[0m \u001b[1;33m=\u001b[0m \u001b[0mstd\u001b[0m\u001b[1;33m,\u001b[0m \u001b[0mmean_tr\u001b[0m\u001b[1;33m=\u001b[0m \u001b[0mmean_tr\u001b[0m\u001b[1;33m,\u001b[0m \u001b[0mstd_tr\u001b[0m\u001b[1;33m=\u001b[0m \u001b[0mstd_tr\u001b[0m\u001b[1;33m)\u001b[0m\u001b[1;33m\u001b[0m\u001b[0m\n\u001b[0;32m     12\u001b[0m \u001b[1;33m\u001b[0m\u001b[0m\n\u001b[1;32m---> 13\u001b[1;33m     \u001b[0my_val_patch_pred_i\u001b[0m \u001b[1;33m=\u001b[0m \u001b[0mmodel\u001b[0m\u001b[1;33m.\u001b[0m\u001b[0mpredict\u001b[0m\u001b[1;33m(\u001b[0m\u001b[1;33m{\u001b[0m\u001b[1;34m'main_input'\u001b[0m\u001b[1;33m:\u001b[0m\u001b[0mX_val_patch_i\u001b[0m\u001b[1;33m,\u001b[0m \u001b[1;34m'scaled_input'\u001b[0m\u001b[1;33m:\u001b[0m \u001b[0mX_val_patch_tr_i\u001b[0m\u001b[1;33m}\u001b[0m\u001b[1;33m,\u001b[0m         \u001b[0mbatch_size\u001b[0m\u001b[1;33m=\u001b[0m\u001b[0mbatch_size\u001b[0m\u001b[1;33m)\u001b[0m\u001b[1;33m[\u001b[0m\u001b[1;36m0\u001b[0m\u001b[1;33m]\u001b[0m\u001b[1;33m\u001b[0m\u001b[0m\n\u001b[0m\u001b[0;32m     14\u001b[0m     \u001b[0my_val_patch_pred\u001b[0m \u001b[1;33m=\u001b[0m \u001b[0mmake_brain_multiscale\u001b[0m\u001b[1;33m(\u001b[0m\u001b[0my_val_patch_pred_i\u001b[0m\u001b[1;33m,\u001b[0m \u001b[0mcache\u001b[0m\u001b[1;33m[\u001b[0m\u001b[0mi\u001b[0m\u001b[1;33m]\u001b[0m\u001b[1;33m,\u001b[0m \u001b[0mpatch_w_stride\u001b[0m \u001b[1;33m=\u001b[0m \u001b[0mrow_size\u001b[0m\u001b[1;33m/\u001b[0m\u001b[0mstride\u001b[0m\u001b[1;33m,\u001b[0m         \u001b[0mpatch_c_stride\u001b[0m \u001b[1;33m=\u001b[0m \u001b[0mchannel_size\u001b[0m\u001b[1;33m/\u001b[0m\u001b[1;36m2\u001b[0m\u001b[1;33m)\u001b[0m\u001b[1;33m\u001b[0m\u001b[0m\n\u001b[0;32m     15\u001b[0m \u001b[1;33m\u001b[0m\u001b[0m\n",
      "\u001b[1;32m/usr/local/lib/python2.7/dist-packages/keras/engine/training.pyc\u001b[0m in \u001b[0;36mpredict\u001b[1;34m(self, x, batch_size, verbose)\u001b[0m\n\u001b[0;32m   1178\u001b[0m         \u001b[0mf\u001b[0m \u001b[1;33m=\u001b[0m \u001b[0mself\u001b[0m\u001b[1;33m.\u001b[0m\u001b[0mpredict_function\u001b[0m\u001b[1;33m\u001b[0m\u001b[0m\n\u001b[0;32m   1179\u001b[0m         return self._predict_loop(f, ins,\n\u001b[1;32m-> 1180\u001b[1;33m                                   batch_size=batch_size, verbose=verbose)\n\u001b[0m\u001b[0;32m   1181\u001b[0m \u001b[1;33m\u001b[0m\u001b[0m\n\u001b[0;32m   1182\u001b[0m     def train_on_batch(self, x, y,\n",
      "\u001b[1;32m/usr/local/lib/python2.7/dist-packages/keras/engine/training.pyc\u001b[0m in \u001b[0;36m_predict_loop\u001b[1;34m(self, f, ins, batch_size, verbose)\u001b[0m\n\u001b[0;32m    877\u001b[0m                 \u001b[0mins_batch\u001b[0m \u001b[1;33m=\u001b[0m \u001b[0mslice_X\u001b[0m\u001b[1;33m(\u001b[0m\u001b[0mins\u001b[0m\u001b[1;33m,\u001b[0m \u001b[0mbatch_ids\u001b[0m\u001b[1;33m)\u001b[0m\u001b[1;33m\u001b[0m\u001b[0m\n\u001b[0;32m    878\u001b[0m \u001b[1;33m\u001b[0m\u001b[0m\n\u001b[1;32m--> 879\u001b[1;33m             \u001b[0mbatch_outs\u001b[0m \u001b[1;33m=\u001b[0m \u001b[0mf\u001b[0m\u001b[1;33m(\u001b[0m\u001b[0mins_batch\u001b[0m\u001b[1;33m)\u001b[0m\u001b[1;33m\u001b[0m\u001b[0m\n\u001b[0m\u001b[0;32m    880\u001b[0m             \u001b[1;32mif\u001b[0m \u001b[0mtype\u001b[0m\u001b[1;33m(\u001b[0m\u001b[0mbatch_outs\u001b[0m\u001b[1;33m)\u001b[0m \u001b[1;33m!=\u001b[0m \u001b[0mlist\u001b[0m\u001b[1;33m:\u001b[0m\u001b[1;33m\u001b[0m\u001b[0m\n\u001b[0;32m    881\u001b[0m                 \u001b[0mbatch_outs\u001b[0m \u001b[1;33m=\u001b[0m \u001b[1;33m[\u001b[0m\u001b[0mbatch_outs\u001b[0m\u001b[1;33m]\u001b[0m\u001b[1;33m\u001b[0m\u001b[0m\n",
      "\u001b[1;32m/usr/local/lib/python2.7/dist-packages/keras/backend/theano_backend.pyc\u001b[0m in \u001b[0;36m__call__\u001b[1;34m(self, inputs)\u001b[0m\n\u001b[0;32m    653\u001b[0m     \u001b[1;32mdef\u001b[0m \u001b[0m__call__\u001b[0m\u001b[1;33m(\u001b[0m\u001b[0mself\u001b[0m\u001b[1;33m,\u001b[0m \u001b[0minputs\u001b[0m\u001b[1;33m)\u001b[0m\u001b[1;33m:\u001b[0m\u001b[1;33m\u001b[0m\u001b[0m\n\u001b[0;32m    654\u001b[0m         \u001b[1;32massert\u001b[0m \u001b[0mtype\u001b[0m\u001b[1;33m(\u001b[0m\u001b[0minputs\u001b[0m\u001b[1;33m)\u001b[0m \u001b[1;32min\u001b[0m \u001b[1;33m{\u001b[0m\u001b[0mlist\u001b[0m\u001b[1;33m,\u001b[0m \u001b[0mtuple\u001b[0m\u001b[1;33m}\u001b[0m\u001b[1;33m\u001b[0m\u001b[0m\n\u001b[1;32m--> 655\u001b[1;33m         \u001b[1;32mreturn\u001b[0m \u001b[0mself\u001b[0m\u001b[1;33m.\u001b[0m\u001b[0mfunction\u001b[0m\u001b[1;33m(\u001b[0m\u001b[1;33m*\u001b[0m\u001b[0minputs\u001b[0m\u001b[1;33m)\u001b[0m\u001b[1;33m\u001b[0m\u001b[0m\n\u001b[0m\u001b[0;32m    656\u001b[0m \u001b[1;33m\u001b[0m\u001b[0m\n\u001b[0;32m    657\u001b[0m \u001b[1;33m\u001b[0m\u001b[0m\n",
      "\u001b[1;32m/usr/local/lib/python2.7/dist-packages/theano/compile/function_module.pyc\u001b[0m in \u001b[0;36m__call__\u001b[1;34m(self, *args, **kwargs)\u001b[0m\n\u001b[0;32m    857\u001b[0m         \u001b[0mt0_fn\u001b[0m \u001b[1;33m=\u001b[0m \u001b[0mtime\u001b[0m\u001b[1;33m.\u001b[0m\u001b[0mtime\u001b[0m\u001b[1;33m(\u001b[0m\u001b[1;33m)\u001b[0m\u001b[1;33m\u001b[0m\u001b[0m\n\u001b[0;32m    858\u001b[0m         \u001b[1;32mtry\u001b[0m\u001b[1;33m:\u001b[0m\u001b[1;33m\u001b[0m\u001b[0m\n\u001b[1;32m--> 859\u001b[1;33m             \u001b[0moutputs\u001b[0m \u001b[1;33m=\u001b[0m \u001b[0mself\u001b[0m\u001b[1;33m.\u001b[0m\u001b[0mfn\u001b[0m\u001b[1;33m(\u001b[0m\u001b[1;33m)\u001b[0m\u001b[1;33m\u001b[0m\u001b[0m\n\u001b[0m\u001b[0;32m    860\u001b[0m         \u001b[1;32mexcept\u001b[0m \u001b[0mException\u001b[0m\u001b[1;33m:\u001b[0m\u001b[1;33m\u001b[0m\u001b[0m\n\u001b[0;32m    861\u001b[0m             \u001b[1;32mif\u001b[0m \u001b[0mhasattr\u001b[0m\u001b[1;33m(\u001b[0m\u001b[0mself\u001b[0m\u001b[1;33m.\u001b[0m\u001b[0mfn\u001b[0m\u001b[1;33m,\u001b[0m \u001b[1;34m'position_of_error'\u001b[0m\u001b[1;33m)\u001b[0m\u001b[1;33m:\u001b[0m\u001b[1;33m\u001b[0m\u001b[0m\n",
      "\u001b[1;32m/usr/local/lib/python2.7/dist-packages/theano/gof/op.pyc\u001b[0m in \u001b[0;36mrval\u001b[1;34m(p, i, o, n)\u001b[0m\n\u001b[0;32m    909\u001b[0m         \u001b[1;32mif\u001b[0m \u001b[0mparams\u001b[0m \u001b[1;32mis\u001b[0m \u001b[0mgraph\u001b[0m\u001b[1;33m.\u001b[0m\u001b[0mNoParams\u001b[0m\u001b[1;33m:\u001b[0m\u001b[1;33m\u001b[0m\u001b[0m\n\u001b[0;32m    910\u001b[0m             \u001b[1;31m# default arguments are stored in the closure of `rval`\u001b[0m\u001b[1;33m\u001b[0m\u001b[1;33m\u001b[0m\u001b[0m\n\u001b[1;32m--> 911\u001b[1;33m             \u001b[1;32mdef\u001b[0m \u001b[0mrval\u001b[0m\u001b[1;33m(\u001b[0m\u001b[0mp\u001b[0m\u001b[1;33m=\u001b[0m\u001b[0mp\u001b[0m\u001b[1;33m,\u001b[0m \u001b[0mi\u001b[0m\u001b[1;33m=\u001b[0m\u001b[0mnode_input_storage\u001b[0m\u001b[1;33m,\u001b[0m \u001b[0mo\u001b[0m\u001b[1;33m=\u001b[0m\u001b[0mnode_output_storage\u001b[0m\u001b[1;33m,\u001b[0m \u001b[0mn\u001b[0m\u001b[1;33m=\u001b[0m\u001b[0mnode\u001b[0m\u001b[1;33m)\u001b[0m\u001b[1;33m:\u001b[0m\u001b[1;33m\u001b[0m\u001b[0m\n\u001b[0m\u001b[0;32m    912\u001b[0m                 \u001b[0mr\u001b[0m \u001b[1;33m=\u001b[0m \u001b[0mp\u001b[0m\u001b[1;33m(\u001b[0m\u001b[0mn\u001b[0m\u001b[1;33m,\u001b[0m \u001b[1;33m[\u001b[0m\u001b[0mx\u001b[0m\u001b[1;33m[\u001b[0m\u001b[1;36m0\u001b[0m\u001b[1;33m]\u001b[0m \u001b[1;32mfor\u001b[0m \u001b[0mx\u001b[0m \u001b[1;32min\u001b[0m \u001b[0mi\u001b[0m\u001b[1;33m]\u001b[0m\u001b[1;33m,\u001b[0m \u001b[0mo\u001b[0m\u001b[1;33m)\u001b[0m\u001b[1;33m\u001b[0m\u001b[0m\n\u001b[0;32m    913\u001b[0m                 \u001b[1;32mfor\u001b[0m \u001b[0mo\u001b[0m \u001b[1;32min\u001b[0m \u001b[0mnode\u001b[0m\u001b[1;33m.\u001b[0m\u001b[0moutputs\u001b[0m\u001b[1;33m:\u001b[0m\u001b[1;33m\u001b[0m\u001b[0m\n",
      "\u001b[1;31mKeyboardInterrupt\u001b[0m: "
     ]
    }
   ],
   "source": [
    "print('Validating model...')\n",
    "stride = 2\n",
    "_, label_list = make_data_list((te_list), isTrainOrVal = True, isFix=False)\n",
    "X_val_patch, X_val_patch_tr, cache = make_test_data_multiscale((te_list), \\\n",
    "    row_size_=row_size, channel_size_=channel_size, isVal_=False, \\\n",
    "    patch_w_stride_ = row_size/stride, patch_c_stride_ = channel_size/2, isFix=True)\n",
    "N_val = len(X_val_patch)\n",
    "\n",
    "for i in xrange(N_val):\n",
    "    compare_list = []\n",
    "    X_val_patch_i = np.transpose( X_val_patch[i].reshape(time_stamp, -1, \\\n",
    "        channel_size, row_size, row_size), (1,0,2,3,4) )\n",
    "    X_val_patch_tr_i = np.transpose( X_val_patch_tr[i].reshape(time_stamp, -1, \\\n",
    "        channel_size, row_size, row_size), (1,0,2,3,4) )\n",
    "    X_val_patch_i, X_val_patch_tr_i = preprocess_multi(X=X_val_patch_i, \\\n",
    "        X_tr=X_val_patch_tr_i, y=None,  mean = mean, std = std, mean_tr= mean_tr, std_tr= std_tr)\n",
    "\n",
    "    y_val_patch_pred_i = model.predict({'main_input':X_val_patch_i, 'scaled_input': X_val_patch_tr_i}, \\\n",
    "        batch_size=batch_size)[0]\n",
    "    y_val_patch_pred = make_brain_multiscale(y_val_patch_pred_i, cache[i], patch_w_stride = row_size/stride, \\\n",
    "        patch_c_stride = channel_size/2)\n",
    "\n",
    "    y_val_patch_pred /= ((stride ** 2) * 2.0)\n",
    "    y_val_patch_pred = (y_val_patch_pred >= 0.5)\n",
    "\n",
    "    GT_Y = np.transpose(np.array(label_list[i]), (2,0,1))\n",
    "    zoomRate = [float(ai)/bi for ai, bi in zip(GT_Y.shape, y_val_patch_pred.shape)]\n",
    "    y_val_patch_pred = transform_sol(y_val_patch_pred, zoomRate)\n",
    "    y_val_patch_pred = (y_val_patch_pred >= 0.5)\n",
    "\n",
    "    print(i)\n",
    "    for j in xrange(GT_Y.shape[0]):\n",
    "        compare_list.append([np.sum(y_val_patch_pred[j]), np.sum(GT_Y[j])])\n",
    "    print(compare_list)\n",
    "    dice_coef= cal_dice_coef( y_val_patch_pred.reshape(-1), GT_Y.reshape(-1))            \n",
    "    print('Dice Coef: {}'.format(dice_coef))\n",
    "    result.append(dice_coef)\n",
    "\n",
    "result\n"
   ]
  },
  {
   "cell_type": "code",
   "execution_count": null,
   "metadata": {
    "collapsed": true
   },
   "outputs": [],
   "source": []
  },
  {
   "cell_type": "code",
   "execution_count": null,
   "metadata": {
    "collapsed": true
   },
   "outputs": [],
   "source": []
  },
  {
   "cell_type": "code",
   "execution_count": null,
   "metadata": {
    "collapsed": false
   },
   "outputs": [],
   "source": [
    "0\n",
    "[[0, 0], [0, 0], [261, 0], [569, 0], [965, 0], [87, 0], [116, 0], [42, 0], [39, 0], [7, 0], [169, 111], [320, 100], [429, 0], [264, 0], [237, 0], [97, 0], [0, 0], [0, 0], [0, 0]]\n",
    "Dice Coef: 0.0283241542093\n",
    "1\n",
    "[[0, 0.0], [0, 0.0], [0, 0.0], [0, 0.0], [0, 0.0], [0, 0.0], [0, 0.0], [1, 0.0], [0, 0.0], [0, 0.0], [46, 33.0], [59, 64.0], [12, 54.0], [8, 18.0], [0, 12.0], [0, 13.0], [0, 0.0], [0, 0.0], [0, 0.0], [0, 0.0], [0, 0.0], [0, 0.0], [0, 0.0], [0, 0.0], [0, 0.0]]\n",
    "Dice Coef: 0.3875\n",
    "2\n",
    "[[0, 0.0], [0, 0.0], [1, 0.0], [104, 0.0], [146, 0.0], [143, 0.0], [437, 144.0], [575, 254.0], [478, 287.0], [262, 246.0], [1, 124.0], [4, 0.0], [10, 0.0], [12, 0.0], [0, 0.0], [0, 0.0], [0, 0.0], [0, 0.0], [0, 0.0]]\n",
    "Dice Coef: 0.447335811648\n",
    "3\n",
    "[[0, 0], [0, 0], [0, 0], [0, 0], [60, 0], [0, 0], [0, 0], [0, 38], [0, 99], [0, 110], [0, 120], [0, 163], [0, 59], [0, 0], [0, 0], [0, 0], [0, 0], [0, 0], [0, 0]]\n",
    "Dice Coef: 0.0\n",
    "4\n",
    "[[0, 0], [0, 0], [0, 0], [0, 0], [0, 0], [0, 0], [0, 0], [0, 0], [0, 0], [27, 0], [92, 191], [512, 1158], [1321, 2025], [1629, 2046], [2226, 1795], [1494, 1682], [746, 1307], [384, 874], [0, 553], [0, 224], [0, 0], [0, 0], [0, 0], [0, 0]]\n",
    "Dice Coef: 0.614808242137\n",
    "5\n",
    "[[0, 0], [0, 0], [0, 0], [0, 0], [0, 0], [0, 0], [0, 0], [0, 0], [0, 227], [516, 643], [753, 1626], [1046, 2823], [2308, 3429], [2581, 3732], [3264, 4236], [1966, 2801], [1377, 2240], [690, 1253], [403, 821], [91, 130], [0, 0], [0, 0], [0, 0], [0, 0]]\n",
    "Dice Coef: 0.669678611767"
   ]
  },
  {
   "cell_type": "code",
   "execution_count": null,
   "metadata": {
    "collapsed": true
   },
   "outputs": [],
   "source": []
  }
 ],
 "metadata": {
  "kernelspec": {
   "display_name": "Python 2",
   "language": "python",
   "name": "python2"
  },
  "language_info": {
   "codemirror_mode": {
    "name": "ipython",
    "version": 2
   },
   "file_extension": ".py",
   "mimetype": "text/x-python",
   "name": "python",
   "nbconvert_exporter": "python",
   "pygments_lexer": "ipython2",
   "version": "2.7.6"
  }
 },
 "nbformat": 4,
 "nbformat_minor": 0
}
