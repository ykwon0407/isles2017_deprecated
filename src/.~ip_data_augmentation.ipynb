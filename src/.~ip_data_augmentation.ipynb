{
 "cells": [
  {
   "cell_type": "code",
   "execution_count": 1,
   "metadata": {
    "collapsed": true
   },
   "outputs": [],
   "source": [
    "import numpy as np\n",
    "import medpy.io as medio\n",
    "import os\n",
    "from glob import glob\n",
    "import pandas as pd\n",
    "import sys\n",
    "from util import *\n",
    "from sklearn.feature_extraction.image import extract_patches\n",
    "from multiprocessing import Pool\n",
    "from sklearn.cross_validation import StratifiedKFold, KFold\n",
    "\n",
    "MULTI = 8\n",
    "time_point = 6\n",
    "datadir_train = '../input/Training/training_'\n",
    "GT_list = sorted(glob(os.path.join(datadir_train+'*', 'GT01.nii.gz')))"
   ]
  },
  {
   "cell_type": "code",
   "execution_count": 2,
   "metadata": {
    "collapsed": false
   },
   "outputs": [],
   "source": [
    "GT_list\n",
    "#density\n",
    "density = np.zeros(len(GT_list))\n",
    "label = np.array([])\n",
    "for idx, gt in enumerate(GT_list):\n",
    "    test = medio.load(gt)[0]\n",
    "    label = np.concatenate( (label, np.unique(np.array(test))), axis=0 )\n",
    "    density[idx] = np.mean(test).astype(np.float32)\n"
   ]
  },
  {
   "cell_type": "code",
   "execution_count": 3,
   "metadata": {
    "collapsed": false
   },
   "outputs": [
    {
     "data": {
      "text/plain": [
       "array([['1', '0.000301249529002', '2', '0'],\n",
       "       ['10', '0.00047363282647', '4', '0'],\n",
       "       ['11', '0.00150624767412', '11', '2'],\n",
       "       ['12', '0.000840928812977', '10', '2'],\n",
       "       ['13', '0.00753720616922', '21', '4'],\n",
       "       ['14', '0.0152339935303', '26', '5'],\n",
       "       ['15', '0.000302734377328', '3', '0'],\n",
       "       ['16', '0.00361569714732', '16', '3'],\n",
       "       ['18', '0.0305361393839', '28', '5'],\n",
       "       ['19', '0.00080744427396', '7', '1'],\n",
       "       ['2', '6.8530702265e-05', '0', '0'],\n",
       "       ['20', '0.00223144539632', '14', '2'],\n",
       "       ['21', '0.000819512992166', '8', '1'],\n",
       "       ['22', '0.0103162126616', '23', '4'],\n",
       "       ['23', '0.00176111853216', '12', '2'],\n",
       "       ['24', '0.0135485334322', '25', '5'],\n",
       "       ['26', '0.00590960169211', '19', '3'],\n",
       "       ['27', '0.0123312436044', '24', '4'],\n",
       "       ['28', '0.000643807870802', '5', '1'],\n",
       "       ['30', '0.00189977569971', '13', '2'],\n",
       "       ['31', '0.00460792845115', '18', '3'],\n",
       "       ['32', '0.00922218617052', '22', '4'],\n",
       "       ['33', '0.0041630496271', '17', '3'],\n",
       "       ['35', '0.000657371245325', '6', '1'],\n",
       "       ['4', '0.031038697809', '29', '5'],\n",
       "       ['5', '0.0073941773735', '20', '4'],\n",
       "       ['6', '0.000285466521746', '1', '0'],\n",
       "       ['7', '0.015312500298', '27', '5'],\n",
       "       ['8', '0.00277483905666', '15', '3'],\n",
       "       ['9', '0.00082519534044', '9', '1']], \n",
       "      dtype='|S32')"
      ]
     },
     "execution_count": 3,
     "metadata": {},
     "output_type": "execute_result"
    }
   ],
   "source": [
    "file_list = [str.split(f,'_')[1] for f in sorted(glob(os.path.join(datadir_train+'*')))]\n",
    "GT_order = density.argsort().argsort() #order\n",
    "GT_class = GT_order//5\n",
    "np.transpose(np.vstack((file_list, density, GT_order, GT_class)))"
   ]
  },
  {
   "cell_type": "code",
   "execution_count": 4,
   "metadata": {
    "collapsed": false
   },
   "outputs": [
    {
     "name": "stdout",
     "output_type": "stream",
     "text": [
      "[ 1  3  4  5  6  7 10 11 12 13 14 15 17 18 19 20 21 22 23 24 26 27 28 29]\n",
      "(array([ 0,  2,  8,  9, 16, 25]), [0, 2, 5, 1, 3, 4])\n",
      "[ 0  1  2  3  4  5  6  7  8  9 10 11 15 16 17 18 19 21 22 23 25 27 28 29]\n",
      "(array([12, 13, 14, 20, 24, 26]), [1, 4, 2, 3, 5, 0])\n",
      "[ 0  2  3  4  6  7  8  9 10 12 13 14 15 16 17 19 20 23 24 25 26 27 28 29]\n",
      "(array([ 1,  5, 11, 18, 21, 22]), [0, 5, 2, 1, 4, 3])\n",
      "[ 0  1  2  4  5  6  7  8  9 11 12 13 14 16 18 19 20 21 22 23 24 25 26 27]\n",
      "(array([ 3, 10, 15, 17, 28, 29]), [2, 0, 5, 4, 3, 1])\n",
      "[ 0  1  2  3  5  8  9 10 11 12 13 14 15 16 17 18 20 21 22 24 25 26 28 29]\n",
      "(array([ 4,  6,  7, 19, 23, 27]), [4, 0, 3, 2, 1, 5])\n"
     ]
    }
   ],
   "source": [
    "sss = StratifiedKFold(GT_class, n_folds=5, shuffle=True, random_state=1004)\n",
    "for tr, te in sss:\n",
    "    print(tr)\n",
    "    print(te, [GT_class[t] for t in te])"
   ]
  },
  {
   "cell_type": "code",
   "execution_count": 5,
   "metadata": {
    "collapsed": false
   },
   "outputs": [],
   "source": [
    "#np.save(arr = GT_class, file = '../input/classLabel_5_folds.npy')"
   ]
  },
  {
   "cell_type": "code",
   "execution_count": 6,
   "metadata": {
    "collapsed": false
   },
   "outputs": [
    {
     "data": {
      "text/plain": [
       "array([0, 0, 2, 2, 4, 5, 0, 3, 5, 1, 0, 2, 1, 4, 2, 5, 3, 4, 1, 2, 3, 4, 3,\n",
       "       1, 5, 4, 0, 5, 3, 1])"
      ]
     },
     "execution_count": 6,
     "metadata": {},
     "output_type": "execute_result"
    }
   ],
   "source": [
    "np.load('../input/classLabel_5_folds.npy')"
   ]
  },
  {
   "cell_type": "code",
   "execution_count": 7,
   "metadata": {
    "collapsed": false
   },
   "outputs": [
    {
     "data": {
      "text/plain": [
       "array([0, 0, 2, 2, 4, 5, 0, 3, 5, 1, 0, 2, 1, 4, 2, 5, 3, 4, 1, 2, 3, 4, 3,\n",
       "       1, 5, 4, 0, 5, 3, 1])"
      ]
     },
     "execution_count": 7,
     "metadata": {},
     "output_type": "execute_result"
    }
   ],
   "source": [
    "GT_class"
   ]
  },
  {
   "cell_type": "code",
   "execution_count": 8,
   "metadata": {
    "collapsed": true
   },
   "outputs": [],
   "source": [
    "from data_multiscale import make_data_list\n",
    "from util import make_range\n",
    "from matplotlib import pyplot as plt\n",
    "%matplotlib inline"
   ]
  },
  {
   "cell_type": "markdown",
   "metadata": {},
   "source": [
    "# Visualize all the data"
   ]
  },
  {
   "cell_type": "code",
   "execution_count": 12,
   "metadata": {
    "collapsed": false,
    "scrolled": true
   },
   "outputs": [],
   "source": [
    "img_list, label_list = make_data_list(range(10), isTrainOrVal = True, datadir = datadir_train)\n",
    "w, c = 256, 32"
   ]
  },
  {
   "cell_type": "code",
   "execution_count": null,
   "metadata": {
    "collapsed": false,
    "scrolled": true
   },
   "outputs": [],
   "source": [
    "for j in xrange(30):\n",
    "    plt.figure(figsize=(8,128))\n",
    "    for i in xrange(c):\n",
    "        plt.subplot(c,2,(2*i+1))\n",
    "        plt.imshow(img_list[j][0][:,:,i], cmap=plt.cm.gray)\n",
    "        plt.title('modality')\n",
    "        plt.subplot(c,2,(2*i+2))\n",
    "        plt.imshow(label_list[j][:,:,i], cmap=plt.cm.gray)\n",
    "        plt.title('outcome')\n",
    "    plt.savefig('./brain/train/{}.pdf'.format(j))"
   ]
  },
  {
   "cell_type": "code",
   "execution_count": 13,
   "metadata": {
    "collapsed": false
   },
   "outputs": [
    {
     "data": {
      "text/plain": [
       "'DONE'"
      ]
     },
     "execution_count": 13,
     "metadata": {},
     "output_type": "execute_result"
    }
   ],
   "source": [
    "'DONE'"
   ]
  },
  {
   "cell_type": "markdown",
   "metadata": {
    "collapsed": true
   },
   "source": [
    "# GT_list_train check"
   ]
  },
  {
   "cell_type": "code",
   "execution_count": null,
   "metadata": {
    "collapsed": true
   },
   "outputs": [],
   "source": [
    "k=0\n",
    "row_size=32\n",
    "channel_size=4\n",
    "num_patch=200\n",
    "proportion=0.5"
   ]
  },
  {
   "cell_type": "code",
   "execution_count": null,
   "metadata": {
    "collapsed": false
   },
   "outputs": [],
   "source": [
    "test_sum = 0\n",
    "Y = []\n",
    "X = []\n",
    "X_zoom= []\n",
    "GT_list=[]\n",
    "label = label_list[k]\n",
    "w, _, c =label.shape\n",
    "\n",
    "m1 = np.where(np.sum(label, axis=1)>0)[0]\n",
    "m2 = np.where(np.sum(label, axis=0)>0)[0]\n",
    "m3 = np.where(np.sum(label, axis=1)>0)[1]\n",
    "patch_dim = (row_size ** 2)*channel_size\n",
    "\n",
    "N_GT_patches = int(num_patch*(proportion))\n",
    "N_random_patches = num_patch-N_GT_patches\n",
    "for ind in zip( np.random.choice(range(make_range(min(m1), w, row_size), \\\n",
    "    make_range(max(m1), w, row_size, False)), N_GT_patches), \\\n",
    "                np.random.choice(range(make_range(min(m2), w, row_size), \\\n",
    "                    make_range(max(m2), w, row_size, False)), N_GT_patches), \\\n",
    "                np.random.choice(range(make_range(min(m3), c, channel_size), \\\n",
    "                    make_range(max(m3), c, channel_size, False)), N_GT_patches)):\n",
    "\n",
    "    ind_list = np.array(ind) + np.array([row_size/2, row_size/2, channel_size/2]) \\\n",
    "    + np.array(zip((np.arange(patch_dim)/(row_size*channel_size)), \\\n",
    "        (np.arange(patch_dim)/channel_size)%row_size , np.arange(patch_dim)%channel_size))\n",
    "\n",
    "    ind_list_zoom = np.array(ind) + np.array(zip((np.arange(8*patch_dim)/(4*row_size*channel_size)), \\\n",
    "        (np.arange(8*patch_dim)/(2*channel_size))%(2*row_size) , np.arange(8*patch_dim)%(2*channel_size)))\n",
    "\n",
    "    ind_list = tuple(map(tuple, ind_list))\n",
    "    ind_list_zoom = tuple(map(tuple, ind_list_zoom))\n",
    "    y = np.array([(label_list[k])[idx] for idx in ind_list]).reshape(row_size,row_size,channel_size)\n",
    "    gt = (np.sum(y) > 0)\n",
    "    x = []\n",
    "\n",
    "    x_zoom = []\n",
    "    x_sag = []\n",
    "    x_sag_zoom = []\n",
    "    for m in xrange(time_point):\n",
    "        img = np.array([(img_list[k][m])[idx] \\\n",
    "            for idx in ind_list]).reshape(row_size,row_size,channel_size)\n",
    "        x.append(img)\n",
    "        x_sag.append(transform_sag(img))\n",
    "        img_zoom = np.array([(img_list[k][m])[idx] \\\n",
    "            for idx in ind_list_zoom]).reshape(2*row_size,2*row_size,2*channel_size)\n",
    "        temp = transform(img_zoom)\n",
    "        x_zoom.append(temp)\n",
    "        x_sag_zoom.append(transform_sag(temp))\n",
    "\n",
    "    Y.append(y)\n",
    "    X.append(np.array(x))\n",
    "    X_zoom.append(np.array(x_zoom))\n",
    "    GT_list.append(gt)\n",
    "\n",
    "    Y.append(transform_sag(y))\n",
    "    X.append(np.array(x_sag))\n",
    "    X_zoom.append(np.array(x_sag_zoom))\n",
    "    GT_list.append(gt)\n",
    "\n",
    "for ind in zip( np.random.choice(w-2*row_size, N_random_patches), \\\n",
    "                    np.random.choice(w-2*row_size, N_random_patches), \\\n",
    "                    np.random.choice(c-2*channel_size, N_random_patches) ) :\n",
    "\n",
    "    ind_list = np.array(ind) + np.array([row_size/2, row_size/2, channel_size/2]) \\\n",
    "    + np.array(zip((np.arange(patch_dim)/(row_size*channel_size)), \\\n",
    "        (np.arange(patch_dim)/channel_size)%row_size , np.arange(patch_dim)%channel_size))\n",
    "\n",
    "    ind_list_zoom = np.array(ind) + np.array(zip((np.arange(8*patch_dim)/(4*row_size*channel_size)), \\\n",
    "        (np.arange(8*patch_dim)/(2*channel_size))%(2*row_size) , np.arange(8*patch_dim)%(2*channel_size)))\n",
    "\n",
    "    ind_list = tuple(map(tuple, ind_list))\n",
    "    ind_list_zoom = tuple(map(tuple, ind_list_zoom))\n",
    "    y = np.array([(label_list[k])[idx] for idx in ind_list]).reshape(row_size,row_size,channel_size)\n",
    "    gt = (np.sum(y) > 0)\n",
    "    x = []\n",
    "    x_zoom = []            \n",
    "    x_sag = []\n",
    "    x_sag_zoom = []\n",
    "    for m in xrange(time_point):\n",
    "        img = np.array([(img_list[k][m])[idx] \\\n",
    "            for idx in ind_list]).reshape(row_size,row_size,channel_size)\n",
    "        x.append(img)\n",
    "        x_sag.append(transform_sag(img))\n",
    "        img_zoom = np.array([(img_list[k][m])[idx] \\\n",
    "            for idx in ind_list_zoom]).reshape(2*row_size,2*row_size,2*channel_size)\n",
    "        temp = transform(img_zoom)\n",
    "        x_zoom.append(temp)\n",
    "        x_sag_zoom.append(transform_sag(temp))\n",
    "\n",
    "    if np.std(img) > 1e-5:\n",
    "        Y.append(y)\n",
    "        X.append(np.array(x))\n",
    "        X_zoom.append(np.array(x_zoom))\n",
    "        GT_list.append(gt)\n",
    "\n",
    "        Y.append(transform_sag(y))\n",
    "        X.append(np.array(x_sag))\n",
    "        X_zoom.append(np.array(x_sag_zoom))\n",
    "        GT_list.append(gt)\n",
    "    else:\n",
    "        test_sum += 1\n",
    "print(test_sum)        "
   ]
  },
  {
   "cell_type": "code",
   "execution_count": null,
   "metadata": {
    "collapsed": true
   },
   "outputs": [],
   "source": [
    "X, X_zoom, Y, GT_list = np.array(X).astype('float32'), np.array(X_zoom).astype('float32'), np.array(Y), np.array(GT_list)"
   ]
  },
  {
   "cell_type": "code",
   "execution_count": null,
   "metadata": {
    "collapsed": false
   },
   "outputs": [],
   "source": [
    "np.mean(GT_list), len(GT_list)"
   ]
  },
  {
   "cell_type": "code",
   "execution_count": null,
   "metadata": {
    "collapsed": false
   },
   "outputs": [],
   "source": [
    "GT_list-0"
   ]
  },
  {
   "cell_type": "code",
   "execution_count": null,
   "metadata": {
    "collapsed": true
   },
   "outputs": [],
   "source": []
  },
  {
   "cell_type": "code",
   "execution_count": null,
   "metadata": {
    "collapsed": true
   },
   "outputs": [],
   "source": []
  }
 ],
 "metadata": {
  "kernelspec": {
   "display_name": "Python 2",
   "language": "python",
   "name": "python2"
  },
  "language_info": {
   "codemirror_mode": {
    "name": "ipython",
    "version": 2
   },
   "file_extension": ".py",
   "mimetype": "text/x-python",
   "name": "python",
   "nbconvert_exporter": "python",
   "pygments_lexer": "ipython2",
   "version": "2.7.6"
  }
 },
 "nbformat": 4,
 "nbformat_minor": 0
}
